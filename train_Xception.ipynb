{
 "cells": [
  {
   "cell_type": "code",
   "execution_count": 1,
   "metadata": {},
   "outputs": [
    {
     "name": "stdout",
     "output_type": "stream",
     "text": [
      "[name: \"/device:CPU:0\"\n",
      "device_type: \"CPU\"\n",
      "memory_limit: 268435456\n",
      "locality {\n",
      "}\n",
      "incarnation: 8781964426944679395\n",
      ", name: \"/device:XLA_GPU:0\"\n",
      "device_type: \"XLA_GPU\"\n",
      "memory_limit: 17179869184\n",
      "locality {\n",
      "}\n",
      "incarnation: 14591486299660393717\n",
      "physical_device_desc: \"device: XLA_GPU device\"\n",
      ", name: \"/device:XLA_CPU:0\"\n",
      "device_type: \"XLA_CPU\"\n",
      "memory_limit: 17179869184\n",
      "locality {\n",
      "}\n",
      "incarnation: 7300815798373816011\n",
      "physical_device_desc: \"device: XLA_CPU device\"\n",
      ", name: \"/device:GPU:0\"\n",
      "device_type: \"GPU\"\n",
      "memory_limit: 15864515789\n",
      "locality {\n",
      "  bus_id: 1\n",
      "  links {\n",
      "  }\n",
      "}\n",
      "incarnation: 6022807595301243059\n",
      "physical_device_desc: \"device: 0, name: Tesla P100-PCIE-16GB, pci bus id: 0000:00:04.0, compute capability: 6.0\"\n",
      "]\n"
     ]
    }
   ],
   "source": [
    "from tensorflow.python.client import device_lib\n",
    "print(device_lib.list_local_devices())"
   ]
  },
  {
   "cell_type": "markdown",
   "metadata": {
    "_uuid": "5b508697e471d7a20d9df8a087e1d9e2624f5922"
   },
   "source": [
    "### Imports:"
   ]
  },
  {
   "cell_type": "code",
   "execution_count": 16,
   "metadata": {
    "_cell_guid": "b1076dfc-b9ad-4769-8c92-a6c4dae69d19",
    "_uuid": "8f2839f25d086af736a60e9eeb907d3b93b6e0e5"
   },
   "outputs": [],
   "source": [
    "import os, sys\n",
    "import numpy as np\n",
    "import pandas as pd\n",
    "import matplotlib.pyplot as plt\n",
    "import skimage.io\n",
    "\n",
    "from scipy.misc import imread, imresize\n",
    "from skimage.transform import resize\n",
    "from tqdm import tqdm\n",
    "\n",
    "import keras\n",
    "from keras.preprocessing.image import ImageDataGenerator\n",
    "from keras.applications import Xception\n",
    "from keras.applications.inception_resnet_v2 import InceptionResNetV2\n",
    "from keras.models import Sequential, Model, load_model\n",
    "from keras.layers import Activation, Dense, Multiply, Input\n",
    "from keras.callbacks import ModelCheckpoint,CSVLogger,LearningRateScheduler\n",
    "from keras import metrics\n",
    "from keras.optimizers import Adam  \n",
    "from keras import backend as K\n",
    "\n",
    "from itertools import chain\n",
    "from collections import Counter\n",
    "import warnings\n",
    "warnings.filterwarnings(\"ignore\")\n",
    "%matplotlib inline"
   ]
  },
  {
   "cell_type": "markdown",
   "metadata": {
    "_uuid": "72c425f3aaa2645215a3adc808fc188c5b59106d"
   },
   "source": [
    "### Load dataset info:"
   ]
  },
  {
   "cell_type": "code",
   "execution_count": 3,
   "metadata": {
    "_uuid": "42315d01b95b8a901088befa4100b014a1416c7a"
   },
   "outputs": [],
   "source": [
    "from Data_Generator import data_generator_3channels\n",
    "from Load_data_info import train_dataset_info"
   ]
  },
  {
   "cell_type": "markdown",
   "metadata": {
    "_uuid": "ae3dcb3e4a000051fc8947502a28d399d200a924"
   },
   "source": [
    "### Create datagenerator\n",
    "\n",
    "Our generator will return next structure: ([RGB_images, grayscale_images], labels). As described above, now we will have two inputs"
   ]
  },
  {
   "cell_type": "code",
   "execution_count": 4,
   "metadata": {
    "_uuid": "c21509d05e2882e6315fc7390d27658c0654fc15"
   },
   "outputs": [],
   "source": [
    "from create_model import xception\n",
    "from F1_score import f1"
   ]
  },
  {
   "cell_type": "code",
   "execution_count": 12,
   "metadata": {
    "_uuid": "e7296424196067a0e0a8f2383c99bd2bb76281c4"
   },
   "outputs": [
    {
     "name": "stdout",
     "output_type": "stream",
     "text": [
      "__________________________________________________________________________________________________\n",
      "Layer (type)                    Output Shape         Param #     Connected to                     \n",
      "==================================================================================================\n",
      "input_1 (InputLayer)            (None, 299, 299, 3)  0                                            \n",
      "__________________________________________________________________________________________________\n",
      "input_2 (InputLayer)            (None, 299, 299, 3)  0                                            \n",
      "__________________________________________________________________________________________________\n",
      "xception_image (Model)          (None, 1536)         54336736    input_1[0][0]                    \n",
      "__________________________________________________________________________________________________\n",
      "xception_mask (Model)           (None, 1536)         54336736    input_2[0][0]                    \n",
      "__________________________________________________________________________________________________\n",
      "multiply_1 (Multiply)           (None, 1536)         0           xception_image[1][0]             \n",
      "                                                                 xception_mask[1][0]              \n",
      "__________________________________________________________________________________________________\n",
      "dense_1 (Dense)                 (None, 28)           43036       multiply_1[0][0]                 \n",
      "==================================================================================================\n",
      "Total params: 108,716,508\n",
      "Trainable params: 108,595,420\n",
      "Non-trainable params: 121,088\n",
      "__________________________________________________________________________________________________\n"
     ]
    }
   ],
   "source": [
    "keras.backend.clear_session()\n",
    "\n",
    "model = create_model(input_shape=(299,299,3), n_out=28)\n",
    "model.compile(loss='binary_crossentropy', optimizer='adam',metrics=['acc', f1])\n",
    "\n",
    "model.summary()"
   ]
  },
  {
   "cell_type": "markdown",
   "metadata": {
    "_uuid": "2fbffd71262d7d7e591ad5955feb6b0c5ee61737"
   },
   "source": [
    "### Train model\n",
    "We have a little bit big model (two Xception branches), 1 epoch trains around 1 hour, so we will train only 4 epochs (kaggle has 6 hours limit). Also, we will validate only on 10% of valid data, here it is not necessary in fact, but when you will try it by yourself, you will monitor quality based on val f1 score and val loss."
   ]
  },
  {
   "cell_type": "code",
   "execution_count": 50,
   "metadata": {
    "_uuid": "0343374956494b98425448b7aa9092a037aee401"
   },
   "outputs": [
    {
     "name": "stdout",
     "output_type": "stream",
     "text": [
      "Epoch 1/100\n",
      "100/100 [==============================] - 88s 877ms/step - loss: 0.1320 - acc: 0.9537 - f1: 0.1167 - val_loss: 0.8732 - val_acc: 0.9236 - val_f1: 0.0768\n",
      "\n",
      "Epoch 00001: val_loss improved from inf to 0.87318, saving model to ./working/yixiao/Xception-weights-01.h5\n",
      "Epoch 2/100\n",
      "100/100 [==============================] - 87s 871ms/step - loss: 0.1272 - acc: 0.9555 - f1: 0.1250 - val_loss: 0.2001 - val_acc: 0.9371 - val_f1: 0.0964\n",
      "\n",
      "Epoch 00002: val_loss improved from 0.87318 to 0.20011, saving model to ./working/yixiao/Xception-weights-02.h5\n",
      "Epoch 3/100\n",
      "100/100 [==============================] - 87s 874ms/step - loss: 0.1160 - acc: 0.9588 - f1: 0.1385 - val_loss: 0.4302 - val_acc: 0.9353 - val_f1: 0.0913\n",
      "\n",
      "Epoch 00003: val_loss did not improve from 0.20011\n",
      "Epoch 4/100\n",
      "100/100 [==============================] - 87s 873ms/step - loss: 0.1173 - acc: 0.9597 - f1: 0.1487 - val_loss: 0.1792 - val_acc: 0.9490 - val_f1: 0.0785\n",
      "\n",
      "Epoch 00004: val_loss improved from 0.20011 to 0.17923, saving model to ./working/yixiao/Xception-weights-04.h5\n",
      "Epoch 5/100\n",
      "100/100 [==============================] - 87s 874ms/step - loss: 0.1181 - acc: 0.9590 - f1: 0.1424 - val_loss: 0.1244 - val_acc: 0.9571 - val_f1: 0.1043\n",
      "\n",
      "Epoch 00005: val_loss improved from 0.17923 to 0.12436, saving model to ./working/yixiao/Xception-weights-05.h5\n",
      "Epoch 6/100\n",
      "100/100 [==============================] - 87s 872ms/step - loss: 0.1133 - acc: 0.9607 - f1: 0.1510 - val_loss: 0.7186 - val_acc: 0.8937 - val_f1: 0.0957\n",
      "\n",
      "Epoch 00006: val_loss did not improve from 0.12436\n",
      "Epoch 7/100\n",
      "100/100 [==============================] - 88s 875ms/step - loss: 0.1082 - acc: 0.9627 - f1: 0.1572 - val_loss: 0.1570 - val_acc: 0.9486 - val_f1: 0.1038\n",
      "\n",
      "Epoch 00007: val_loss did not improve from 0.12436\n",
      "Epoch 8/100\n",
      "100/100 [==============================] - 87s 874ms/step - loss: 0.1087 - acc: 0.9636 - f1: 0.1652 - val_loss: 0.1376 - val_acc: 0.9484 - val_f1: 0.1335\n",
      "\n",
      "Epoch 00008: val_loss did not improve from 0.12436\n",
      "Epoch 9/100\n",
      "100/100 [==============================] - 87s 874ms/step - loss: 0.1038 - acc: 0.9632 - f1: 0.1693 - val_loss: 0.1473 - val_acc: 0.9550 - val_f1: 0.1326\n",
      "\n",
      "Epoch 00009: val_loss did not improve from 0.12436\n",
      "Epoch 10/100\n",
      "100/100 [==============================] - 87s 873ms/step - loss: 0.1041 - acc: 0.9632 - f1: 0.1698 - val_loss: 0.1113 - val_acc: 0.9615 - val_f1: 0.1332\n",
      "\n",
      "Epoch 00010: val_loss improved from 0.12436 to 0.11126, saving model to ./working/yixiao/Xception-weights-10.h5\n",
      "Epoch 11/100\n",
      "100/100 [==============================] - 87s 874ms/step - loss: 0.1021 - acc: 0.9639 - f1: 0.1755 - val_loss: 0.1203 - val_acc: 0.9597 - val_f1: 0.1522\n",
      "\n",
      "Epoch 00011: val_loss did not improve from 0.11126\n",
      "Epoch 12/100\n",
      "100/100 [==============================] - 87s 873ms/step - loss: 0.0966 - acc: 0.9655 - f1: 0.1784 - val_loss: 0.1030 - val_acc: 0.9625 - val_f1: 0.1635\n",
      "\n",
      "Epoch 00012: val_loss improved from 0.11126 to 0.10297, saving model to ./working/yixiao/Xception-weights-12.h5\n",
      "Epoch 13/100\n",
      "100/100 [==============================] - 87s 873ms/step - loss: 0.0934 - acc: 0.9676 - f1: 0.1854 - val_loss: 0.1150 - val_acc: 0.9607 - val_f1: 0.1709\n",
      "\n",
      "Epoch 00013: val_loss did not improve from 0.10297\n",
      "Epoch 14/100\n",
      "100/100 [==============================] - 88s 875ms/step - loss: 0.0937 - acc: 0.9670 - f1: 0.1887 - val_loss: 0.1151 - val_acc: 0.9607 - val_f1: 0.1564\n",
      "\n",
      "Epoch 00014: val_loss did not improve from 0.10297\n",
      "Epoch 15/100\n",
      "100/100 [==============================] - 88s 876ms/step - loss: 0.0904 - acc: 0.9680 - f1: 0.2020 - val_loss: 0.1131 - val_acc: 0.9607 - val_f1: 0.1546\n",
      "\n",
      "Epoch 00015: val_loss did not improve from 0.10297\n",
      "Epoch 16/100\n",
      "100/100 [==============================] - 87s 875ms/step - loss: 0.0913 - acc: 0.9690 - f1: 0.2028 - val_loss: 0.1095 - val_acc: 0.9601 - val_f1: 0.1679\n",
      "\n",
      "Epoch 00016: val_loss did not improve from 0.10297\n",
      "Epoch 17/100\n",
      "100/100 [==============================] - 87s 874ms/step - loss: 0.0874 - acc: 0.9690 - f1: 0.2116 - val_loss: 0.1174 - val_acc: 0.9573 - val_f1: 0.1522\n",
      "\n",
      "Epoch 00017: val_loss did not improve from 0.10297\n",
      "Epoch 18/100\n",
      "100/100 [==============================] - 88s 877ms/step - loss: 0.0843 - acc: 0.9704 - f1: 0.2070 - val_loss: 0.1129 - val_acc: 0.9619 - val_f1: 0.1809\n",
      "\n",
      "Epoch 00018: val_loss did not improve from 0.10297\n",
      "Epoch 19/100\n",
      "100/100 [==============================] - 87s 875ms/step - loss: 0.0814 - acc: 0.9719 - f1: 0.2162 - val_loss: 0.1057 - val_acc: 0.9633 - val_f1: 0.1611\n",
      "\n",
      "Epoch 00019: val_loss did not improve from 0.10297\n",
      "Epoch 20/100\n",
      "100/100 [==============================] - 87s 874ms/step - loss: 0.0808 - acc: 0.9715 - f1: 0.2161 - val_loss: 0.0894 - val_acc: 0.9694 - val_f1: 0.1959\n",
      "\n",
      "Epoch 00020: val_loss improved from 0.10297 to 0.08939, saving model to ./working/yixiao/Xception-weights-20.h5\n",
      "Epoch 21/100\n",
      "100/100 [==============================] - 88s 875ms/step - loss: 0.0799 - acc: 0.9714 - f1: 0.2171 - val_loss: 0.0928 - val_acc: 0.9696 - val_f1: 0.1885\n",
      "\n",
      "Epoch 00021: val_loss did not improve from 0.08939\n",
      "Epoch 22/100\n",
      "100/100 [==============================] - 88s 875ms/step - loss: 0.0764 - acc: 0.9733 - f1: 0.2276 - val_loss: 0.1074 - val_acc: 0.9651 - val_f1: 0.1783\n",
      "\n",
      "Epoch 00022: val_loss did not improve from 0.08939\n",
      "Epoch 23/100\n",
      "100/100 [==============================] - 87s 875ms/step - loss: 0.0715 - acc: 0.9751 - f1: 0.2412 - val_loss: 0.1114 - val_acc: 0.9637 - val_f1: 0.1788\n",
      "\n",
      "Epoch 00023: val_loss did not improve from 0.08939\n",
      "Epoch 24/100\n",
      "100/100 [==============================] - 88s 875ms/step - loss: 0.0780 - acc: 0.9734 - f1: 0.2228 - val_loss: 0.0994 - val_acc: 0.9651 - val_f1: 0.1746\n",
      "\n",
      "Epoch 00024: val_loss did not improve from 0.08939\n",
      "Epoch 25/100\n",
      "100/100 [==============================] - 88s 876ms/step - loss: 0.0678 - acc: 0.9756 - f1: 0.2405 - val_loss: 0.0958 - val_acc: 0.9669 - val_f1: 0.1810\n",
      "\n",
      "Epoch 00025: val_loss did not improve from 0.08939\n",
      "Epoch 26/100\n",
      "100/100 [==============================] - 88s 875ms/step - loss: 0.0679 - acc: 0.9760 - f1: 0.2477 - val_loss: 0.0989 - val_acc: 0.9637 - val_f1: 0.1642\n",
      "\n",
      "Epoch 00026: val_loss did not improve from 0.08939\n",
      "Epoch 27/100\n",
      "100/100 [==============================] - 87s 872ms/step - loss: 0.0674 - acc: 0.9764 - f1: 0.2383 - val_loss: 0.1109 - val_acc: 0.9625 - val_f1: 0.1862\n",
      "\n",
      "Epoch 00027: val_loss did not improve from 0.08939\n",
      "Epoch 28/100\n",
      "100/100 [==============================] - 87s 872ms/step - loss: 0.0677 - acc: 0.9771 - f1: 0.2448 - val_loss: 0.0989 - val_acc: 0.9665 - val_f1: 0.1911\n",
      "\n",
      "Epoch 00028: val_loss did not improve from 0.08939\n",
      "Epoch 29/100\n",
      "100/100 [==============================] - 87s 872ms/step - loss: 0.0660 - acc: 0.9787 - f1: 0.2591 - val_loss: 0.0979 - val_acc: 0.9651 - val_f1: 0.1622\n",
      "\n",
      "Epoch 00029: val_loss did not improve from 0.08939\n",
      "Epoch 30/100\n",
      "100/100 [==============================] - 87s 867ms/step - loss: 0.0617 - acc: 0.9793 - f1: 0.2512 - val_loss: 0.1071 - val_acc: 0.9599 - val_f1: 0.1790\n",
      "\n",
      "Epoch 00030: val_loss did not improve from 0.08939\n",
      "Epoch 31/100\n",
      "100/100 [==============================] - 87s 873ms/step - loss: 0.0606 - acc: 0.9794 - f1: 0.2653 - val_loss: 0.0969 - val_acc: 0.9692 - val_f1: 0.2001\n",
      "\n",
      "Epoch 00031: val_loss did not improve from 0.08939\n",
      "Epoch 32/100\n",
      "100/100 [==============================] - 87s 871ms/step - loss: 0.0596 - acc: 0.9798 - f1: 0.2670 - val_loss: 0.1023 - val_acc: 0.9651 - val_f1: 0.1843\n",
      "\n",
      "Epoch 00032: val_loss did not improve from 0.08939\n",
      "Epoch 33/100\n",
      "100/100 [==============================] - 87s 869ms/step - loss: 0.0636 - acc: 0.9791 - f1: 0.2639 - val_loss: 0.1042 - val_acc: 0.9643 - val_f1: 0.2017\n",
      "\n",
      "Epoch 00033: val_loss did not improve from 0.08939\n",
      "Epoch 34/100\n",
      "100/100 [==============================] - 87s 870ms/step - loss: 0.0581 - acc: 0.9804 - f1: 0.2720 - val_loss: 0.0927 - val_acc: 0.9669 - val_f1: 0.2099\n",
      "\n",
      "Epoch 00034: val_loss did not improve from 0.08939\n",
      "Epoch 35/100\n",
      "100/100 [==============================] - 87s 871ms/step - loss: 0.0573 - acc: 0.9804 - f1: 0.2715 - val_loss: 0.1011 - val_acc: 0.9687 - val_f1: 0.1973\n",
      "\n",
      "Epoch 00035: val_loss did not improve from 0.08939\n",
      "Epoch 36/100\n",
      "100/100 [==============================] - 87s 873ms/step - loss: 0.0531 - acc: 0.9820 - f1: 0.2708 - val_loss: 0.1009 - val_acc: 0.9688 - val_f1: 0.1988\n"
     ]
    },
    {
     "name": "stdout",
     "output_type": "stream",
     "text": [
      "\n",
      "Epoch 00036: val_loss did not improve from 0.08939\n",
      "Epoch 37/100\n",
      "100/100 [==============================] - 87s 870ms/step - loss: 0.0477 - acc: 0.9835 - f1: 0.2778 - val_loss: 0.0960 - val_acc: 0.9688 - val_f1: 0.2166\n",
      "\n",
      "Epoch 00037: val_loss did not improve from 0.08939\n",
      "Epoch 38/100\n",
      "100/100 [==============================] - 87s 871ms/step - loss: 0.0511 - acc: 0.9833 - f1: 0.2819 - val_loss: 0.0986 - val_acc: 0.9681 - val_f1: 0.2137\n",
      "\n",
      "Epoch 00038: val_loss did not improve from 0.08939\n",
      "Epoch 39/100\n",
      "100/100 [==============================] - 87s 870ms/step - loss: 0.0459 - acc: 0.9843 - f1: 0.2825 - val_loss: 0.1016 - val_acc: 0.9655 - val_f1: 0.1788\n",
      "\n",
      "Epoch 00039: val_loss did not improve from 0.08939\n",
      "Epoch 40/100\n",
      "100/100 [==============================] - 87s 870ms/step - loss: 0.0450 - acc: 0.9850 - f1: 0.2884 - val_loss: 0.1101 - val_acc: 0.9661 - val_f1: 0.2082\n",
      "\n",
      "Epoch 00040: val_loss did not improve from 0.08939\n",
      "Epoch 41/100\n",
      "100/100 [==============================] - 87s 867ms/step - loss: 0.0521 - acc: 0.9829 - f1: 0.2946 - val_loss: 0.1097 - val_acc: 0.9655 - val_f1: 0.1885\n",
      "\n",
      "Epoch 00041: val_loss did not improve from 0.08939\n",
      "Epoch 42/100\n",
      "100/100 [==============================] - 87s 869ms/step - loss: 0.0445 - acc: 0.9851 - f1: 0.2881 - val_loss: 0.1034 - val_acc: 0.9688 - val_f1: 0.2018\n",
      "\n",
      "Epoch 00042: val_loss did not improve from 0.08939\n",
      "Epoch 43/100\n",
      "100/100 [==============================] - 87s 873ms/step - loss: 0.0456 - acc: 0.9851 - f1: 0.2918 - val_loss: 0.0921 - val_acc: 0.9698 - val_f1: 0.2091\n",
      "\n",
      "Epoch 00043: val_loss did not improve from 0.08939\n",
      "Epoch 44/100\n",
      "100/100 [==============================] - 87s 873ms/step - loss: 0.0470 - acc: 0.9849 - f1: 0.2899 - val_loss: 0.1190 - val_acc: 0.9647 - val_f1: 0.1683\n",
      "\n",
      "Epoch 00044: val_loss did not improve from 0.08939\n",
      "Epoch 45/100\n",
      "100/100 [==============================] - 87s 871ms/step - loss: 0.0455 - acc: 0.9851 - f1: 0.2860 - val_loss: 0.1107 - val_acc: 0.9651 - val_f1: 0.2012\n",
      "\n",
      "Epoch 00045: val_loss did not improve from 0.08939\n",
      "Epoch 46/100\n",
      "100/100 [==============================] - 87s 868ms/step - loss: 0.0416 - acc: 0.9875 - f1: 0.2912 - val_loss: 0.1035 - val_acc: 0.9671 - val_f1: 0.1933\n",
      "\n",
      "Epoch 00046: val_loss did not improve from 0.08939\n",
      "Epoch 47/100\n",
      "100/100 [==============================] - 87s 867ms/step - loss: 0.0405 - acc: 0.9867 - f1: 0.2992 - val_loss: 0.1078 - val_acc: 0.9669 - val_f1: 0.2065\n",
      "\n",
      "Epoch 00047: val_loss did not improve from 0.08939\n",
      "Epoch 48/100\n",
      "100/100 [==============================] - 86s 862ms/step - loss: 0.0367 - acc: 0.9879 - f1: 0.2954 - val_loss: 0.1021 - val_acc: 0.9708 - val_f1: 0.2074\n",
      "\n",
      "Epoch 00048: val_loss did not improve from 0.08939\n",
      "Epoch 49/100\n",
      "100/100 [==============================] - 87s 866ms/step - loss: 0.0480 - acc: 0.9847 - f1: 0.2929 - val_loss: 0.0990 - val_acc: 0.9690 - val_f1: 0.2122\n",
      "\n",
      "Epoch 00049: val_loss did not improve from 0.08939\n",
      "Epoch 50/100\n",
      "100/100 [==============================] - 87s 869ms/step - loss: 0.0411 - acc: 0.9866 - f1: 0.2961 - val_loss: 0.1166 - val_acc: 0.9657 - val_f1: 0.1893\n",
      "\n",
      "Epoch 00050: val_loss did not improve from 0.08939\n",
      "Epoch 51/100\n",
      "100/100 [==============================] - 87s 869ms/step - loss: 0.0384 - acc: 0.9881 - f1: 0.3008 - val_loss: 0.1201 - val_acc: 0.9639 - val_f1: 0.2023\n",
      "\n",
      "Epoch 00051: val_loss did not improve from 0.08939\n",
      "Epoch 52/100\n",
      "100/100 [==============================] - 87s 867ms/step - loss: 0.0434 - acc: 0.9869 - f1: 0.2944 - val_loss: 0.1264 - val_acc: 0.9613 - val_f1: 0.1948\n",
      "\n",
      "Epoch 00052: val_loss did not improve from 0.08939\n",
      "Epoch 53/100\n",
      "100/100 [==============================] - 87s 868ms/step - loss: 0.0407 - acc: 0.9871 - f1: 0.3050 - val_loss: 0.1091 - val_acc: 0.9663 - val_f1: 0.1867\n",
      "\n",
      "Epoch 00053: val_loss did not improve from 0.08939\n",
      "Epoch 54/100\n",
      "100/100 [==============================] - 87s 872ms/step - loss: 0.0396 - acc: 0.9871 - f1: 0.3002 - val_loss: 0.1150 - val_acc: 0.9647 - val_f1: 0.1769\n",
      "\n",
      "Epoch 00054: val_loss did not improve from 0.08939\n",
      "Epoch 55/100\n",
      "100/100 [==============================] - 87s 872ms/step - loss: 0.0382 - acc: 0.9887 - f1: 0.2999 - val_loss: 0.1096 - val_acc: 0.9671 - val_f1: 0.2154\n",
      "\n",
      "Epoch 00055: val_loss did not improve from 0.08939\n",
      "Epoch 56/100\n",
      "100/100 [==============================] - 87s 873ms/step - loss: 0.0398 - acc: 0.9870 - f1: 0.3043 - val_loss: 0.0888 - val_acc: 0.9714 - val_f1: 0.1810\n",
      "\n",
      "Epoch 00056: val_loss improved from 0.08939 to 0.08884, saving model to ./working/yixiao/Xception-weights-56.h5\n",
      "Epoch 57/100\n",
      "100/100 [==============================] - 87s 873ms/step - loss: 0.0386 - acc: 0.9880 - f1: 0.3098 - val_loss: 0.1120 - val_acc: 0.9641 - val_f1: 0.1963\n",
      "\n",
      "Epoch 00057: val_loss did not improve from 0.08884\n",
      "Epoch 58/100\n",
      "100/100 [==============================] - 87s 871ms/step - loss: 0.0377 - acc: 0.9884 - f1: 0.3149 - val_loss: 0.1089 - val_acc: 0.9659 - val_f1: 0.1970\n",
      "\n",
      "Epoch 00058: val_loss did not improve from 0.08884\n",
      "Epoch 59/100\n",
      "100/100 [==============================] - 87s 870ms/step - loss: 0.0361 - acc: 0.9887 - f1: 0.3059 - val_loss: 0.1229 - val_acc: 0.9623 - val_f1: 0.1897\n",
      "\n",
      "Epoch 00059: val_loss did not improve from 0.08884\n",
      "Epoch 60/100\n",
      "100/100 [==============================] - 87s 871ms/step - loss: 0.0355 - acc: 0.9890 - f1: 0.3014 - val_loss: 0.1164 - val_acc: 0.9645 - val_f1: 0.2159\n",
      "\n",
      "Epoch 00060: val_loss did not improve from 0.08884\n",
      "Epoch 61/100\n",
      "100/100 [==============================] - 87s 870ms/step - loss: 0.0365 - acc: 0.9884 - f1: 0.2988 - val_loss: 0.1126 - val_acc: 0.9653 - val_f1: 0.1861\n",
      "\n",
      "Epoch 00061: val_loss did not improve from 0.08884\n",
      "Epoch 62/100\n",
      "100/100 [==============================] - 87s 870ms/step - loss: 0.0345 - acc: 0.9891 - f1: 0.3072 - val_loss: 0.1141 - val_acc: 0.9633 - val_f1: 0.1991\n",
      "\n",
      "Epoch 00062: val_loss did not improve from 0.08884\n",
      "Epoch 63/100\n",
      "100/100 [==============================] - 87s 873ms/step - loss: 0.0363 - acc: 0.9881 - f1: 0.2982 - val_loss: 0.1179 - val_acc: 0.9665 - val_f1: 0.1949\n",
      "\n",
      "Epoch 00063: val_loss did not improve from 0.08884\n",
      "Epoch 64/100\n",
      "100/100 [==============================] - 87s 874ms/step - loss: 0.0365 - acc: 0.9884 - f1: 0.3032 - val_loss: 0.1102 - val_acc: 0.9641 - val_f1: 0.1857\n",
      "\n",
      "Epoch 00064: val_loss did not improve from 0.08884\n",
      "Epoch 65/100\n",
      "100/100 [==============================] - 87s 875ms/step - loss: 0.0368 - acc: 0.9894 - f1: 0.3013 - val_loss: 0.1173 - val_acc: 0.9621 - val_f1: 0.2017\n",
      "\n",
      "Epoch 00065: val_loss did not improve from 0.08884\n",
      "Epoch 66/100\n",
      "100/100 [==============================] - 87s 873ms/step - loss: 0.0354 - acc: 0.9888 - f1: 0.3064 - val_loss: 0.1314 - val_acc: 0.9641 - val_f1: 0.1849\n",
      "\n",
      "Epoch 00066: val_loss did not improve from 0.08884\n",
      "Epoch 67/100\n",
      "100/100 [==============================] - 87s 872ms/step - loss: 0.0376 - acc: 0.9882 - f1: 0.3123 - val_loss: 0.1201 - val_acc: 0.9645 - val_f1: 0.2205\n",
      "\n",
      "Epoch 00067: val_loss did not improve from 0.08884\n",
      "Epoch 68/100\n",
      "100/100 [==============================] - 87s 874ms/step - loss: 0.0351 - acc: 0.9889 - f1: 0.3049 - val_loss: 0.1193 - val_acc: 0.9597 - val_f1: 0.1828\n",
      "\n",
      "Epoch 00068: val_loss did not improve from 0.08884\n",
      "Epoch 69/100\n",
      "100/100 [==============================] - 87s 872ms/step - loss: 0.0356 - acc: 0.9882 - f1: 0.3002 - val_loss: 0.1314 - val_acc: 0.9619 - val_f1: 0.2007\n",
      "\n",
      "Epoch 00069: val_loss did not improve from 0.08884\n",
      "Epoch 70/100\n",
      "100/100 [==============================] - 87s 871ms/step - loss: 0.0377 - acc: 0.9878 - f1: 0.2967 - val_loss: 0.1169 - val_acc: 0.9627 - val_f1: 0.1745\n",
      "\n",
      "Epoch 00070: val_loss did not improve from 0.08884\n",
      "Epoch 71/100\n",
      "100/100 [==============================] - 88s 875ms/step - loss: 0.0380 - acc: 0.9882 - f1: 0.3076 - val_loss: 0.1332 - val_acc: 0.9627 - val_f1: 0.2004\n",
      "\n",
      "Epoch 00071: val_loss did not improve from 0.08884\n",
      "Epoch 72/100\n",
      "100/100 [==============================] - 87s 875ms/step - loss: 0.0358 - acc: 0.9888 - f1: 0.3081 - val_loss: 0.1136 - val_acc: 0.9692 - val_f1: 0.2333\n",
      "\n",
      "Epoch 00072: val_loss did not improve from 0.08884\n",
      "Epoch 73/100\n",
      "100/100 [==============================] - 87s 874ms/step - loss: 0.0379 - acc: 0.9882 - f1: 0.2994 - val_loss: 0.1211 - val_acc: 0.9619 - val_f1: 0.1749\n",
      "\n",
      "Epoch 00073: val_loss did not improve from 0.08884\n",
      "Epoch 74/100\n"
     ]
    },
    {
     "name": "stdout",
     "output_type": "stream",
     "text": [
      "100/100 [==============================] - 87s 873ms/step - loss: 0.0323 - acc: 0.9895 - f1: 0.3136 - val_loss: 0.1080 - val_acc: 0.9679 - val_f1: 0.1905\n",
      "\n",
      "Epoch 00074: val_loss did not improve from 0.08884\n",
      "Epoch 75/100\n",
      "100/100 [==============================] - 87s 872ms/step - loss: 0.0361 - acc: 0.9890 - f1: 0.2985 - val_loss: 0.1156 - val_acc: 0.9677 - val_f1: 0.2048\n",
      "\n",
      "Epoch 00075: val_loss did not improve from 0.08884\n",
      "Epoch 76/100\n",
      "100/100 [==============================] - 87s 870ms/step - loss: 0.0361 - acc: 0.9886 - f1: 0.2986 - val_loss: 0.1257 - val_acc: 0.9641 - val_f1: 0.1985\n",
      "\n",
      "Epoch 00076: val_loss did not improve from 0.08884\n",
      "Epoch 77/100\n",
      "100/100 [==============================] - 87s 870ms/step - loss: 0.0362 - acc: 0.9892 - f1: 0.3178 - val_loss: 0.1040 - val_acc: 0.9645 - val_f1: 0.2047\n",
      "\n",
      "Epoch 00077: val_loss did not improve from 0.08884\n",
      "Epoch 78/100\n",
      "100/100 [==============================] - 87s 874ms/step - loss: 0.0341 - acc: 0.9893 - f1: 0.3035 - val_loss: 0.1158 - val_acc: 0.9675 - val_f1: 0.1891\n",
      "\n",
      "Epoch 00078: val_loss did not improve from 0.08884\n",
      "Epoch 79/100\n",
      "100/100 [==============================] - 87s 873ms/step - loss: 0.0351 - acc: 0.9886 - f1: 0.3048 - val_loss: 0.1225 - val_acc: 0.9667 - val_f1: 0.1946\n",
      "\n",
      "Epoch 00079: val_loss did not improve from 0.08884\n",
      "Epoch 80/100\n",
      "100/100 [==============================] - 87s 871ms/step - loss: 0.0357 - acc: 0.9884 - f1: 0.3186 - val_loss: 0.1249 - val_acc: 0.9617 - val_f1: 0.1940\n",
      "\n",
      "Epoch 00080: val_loss did not improve from 0.08884\n",
      "Epoch 81/100\n",
      "100/100 [==============================] - 87s 873ms/step - loss: 0.0367 - acc: 0.9884 - f1: 0.2967 - val_loss: 0.1311 - val_acc: 0.9583 - val_f1: 0.1716\n",
      "\n",
      "Epoch 00081: val_loss did not improve from 0.08884\n",
      "Epoch 82/100\n",
      "100/100 [==============================] - 87s 873ms/step - loss: 0.0332 - acc: 0.9892 - f1: 0.3075 - val_loss: 0.1172 - val_acc: 0.9661 - val_f1: 0.2162\n",
      "\n",
      "Epoch 00082: val_loss did not improve from 0.08884\n",
      "Epoch 83/100\n",
      "100/100 [==============================] - 88s 876ms/step - loss: 0.0358 - acc: 0.9886 - f1: 0.3110 - val_loss: 0.1081 - val_acc: 0.9663 - val_f1: 0.2015\n",
      "\n",
      "Epoch 00083: val_loss did not improve from 0.08884\n",
      "Epoch 84/100\n",
      "100/100 [==============================] - 87s 875ms/step - loss: 0.0373 - acc: 0.9877 - f1: 0.3023 - val_loss: 0.1212 - val_acc: 0.9613 - val_f1: 0.1913\n",
      "\n",
      "Epoch 00084: val_loss did not improve from 0.08884\n",
      "Epoch 85/100\n",
      "100/100 [==============================] - 87s 871ms/step - loss: 0.0351 - acc: 0.9891 - f1: 0.3151 - val_loss: 0.1123 - val_acc: 0.9671 - val_f1: 0.1781\n",
      "\n",
      "Epoch 00085: val_loss did not improve from 0.08884\n",
      "Epoch 86/100\n",
      "100/100 [==============================] - 87s 871ms/step - loss: 0.0335 - acc: 0.9893 - f1: 0.3098 - val_loss: 0.1141 - val_acc: 0.9651 - val_f1: 0.1978\n",
      "\n",
      "Epoch 00086: val_loss did not improve from 0.08884\n",
      "Epoch 87/100\n",
      "100/100 [==============================] - 87s 872ms/step - loss: 0.0355 - acc: 0.9886 - f1: 0.2941 - val_loss: 0.1037 - val_acc: 0.9681 - val_f1: 0.2117\n",
      "\n",
      "Epoch 00087: val_loss did not improve from 0.08884\n",
      "Epoch 88/100\n",
      "100/100 [==============================] - 87s 871ms/step - loss: 0.0336 - acc: 0.9895 - f1: 0.3110 - val_loss: 0.1066 - val_acc: 0.9679 - val_f1: 0.1813\n",
      "\n",
      "Epoch 00088: val_loss did not improve from 0.08884\n",
      "Epoch 89/100\n",
      "100/100 [==============================] - 87s 875ms/step - loss: 0.0364 - acc: 0.9886 - f1: 0.3067 - val_loss: 0.1336 - val_acc: 0.9635 - val_f1: 0.1736\n",
      "\n",
      "Epoch 00089: val_loss did not improve from 0.08884\n",
      "Epoch 90/100\n",
      "100/100 [==============================] - 87s 872ms/step - loss: 0.0380 - acc: 0.9882 - f1: 0.2987 - val_loss: 0.1288 - val_acc: 0.9635 - val_f1: 0.2043\n",
      "\n",
      "Epoch 00090: val_loss did not improve from 0.08884\n",
      "Epoch 91/100\n",
      "100/100 [==============================] - 87s 872ms/step - loss: 0.0320 - acc: 0.9902 - f1: 0.3231 - val_loss: 0.1022 - val_acc: 0.9675 - val_f1: 0.1977\n",
      "\n",
      "Epoch 00091: val_loss did not improve from 0.08884\n",
      "Epoch 92/100\n",
      "100/100 [==============================] - 87s 874ms/step - loss: 0.0375 - acc: 0.9879 - f1: 0.3087 - val_loss: 0.1151 - val_acc: 0.9651 - val_f1: 0.2177\n",
      "\n",
      "Epoch 00092: val_loss did not improve from 0.08884\n",
      "Epoch 93/100\n",
      "100/100 [==============================] - 87s 874ms/step - loss: 0.0378 - acc: 0.9890 - f1: 0.2973 - val_loss: 0.1032 - val_acc: 0.9706 - val_f1: 0.1938\n",
      "\n",
      "Epoch 00093: val_loss did not improve from 0.08884\n",
      "Epoch 94/100\n",
      "100/100 [==============================] - 87s 874ms/step - loss: 0.0345 - acc: 0.9892 - f1: 0.3004 - val_loss: 0.1190 - val_acc: 0.9649 - val_f1: 0.2156\n",
      "\n",
      "Epoch 00094: val_loss did not improve from 0.08884\n",
      "Epoch 95/100\n",
      "100/100 [==============================] - 87s 874ms/step - loss: 0.0334 - acc: 0.9887 - f1: 0.3096 - val_loss: 0.1186 - val_acc: 0.9659 - val_f1: 0.2031\n",
      "\n",
      "Epoch 00095: val_loss did not improve from 0.08884\n",
      "Epoch 96/100\n",
      "100/100 [==============================] - 88s 876ms/step - loss: 0.0371 - acc: 0.9888 - f1: 0.3056 - val_loss: 0.1114 - val_acc: 0.9675 - val_f1: 0.1989\n",
      "\n",
      "Epoch 00096: val_loss did not improve from 0.08884\n",
      "Epoch 97/100\n",
      "100/100 [==============================] - 87s 875ms/step - loss: 0.0381 - acc: 0.9879 - f1: 0.3048 - val_loss: 0.1246 - val_acc: 0.9645 - val_f1: 0.1937\n",
      "\n",
      "Epoch 00097: val_loss did not improve from 0.08884\n",
      "Epoch 98/100\n",
      "100/100 [==============================] - 87s 874ms/step - loss: 0.0331 - acc: 0.9889 - f1: 0.3170 - val_loss: 0.0961 - val_acc: 0.9718 - val_f1: 0.2313\n",
      "\n",
      "Epoch 00098: val_loss did not improve from 0.08884\n",
      "Epoch 99/100\n",
      "100/100 [==============================] - 88s 876ms/step - loss: 0.0353 - acc: 0.9884 - f1: 0.3047 - val_loss: 0.1038 - val_acc: 0.9671 - val_f1: 0.2174\n",
      "\n",
      "Epoch 00099: val_loss did not improve from 0.08884\n",
      "Epoch 100/100\n",
      "100/100 [==============================] - 87s 874ms/step - loss: 0.0321 - acc: 0.9904 - f1: 0.3128 - val_loss: 0.1102 - val_acc: 0.9694 - val_f1: 0.2122\n",
      "\n",
      "Epoch 00100: val_loss did not improve from 0.08884\n"
     ]
    }
   ],
   "source": [
    "epochs = 100; batch_size = 12\n",
    "# checkpointer = ModelCheckpoint(\n",
    "#     './working/Xception.model', \n",
    "#     verbose=2, \n",
    "#     save_best_only=True)\n",
    "\n",
    "log = CSVLogger('./working/yixiao/log.csv')\n",
    "checkpoint = ModelCheckpoint('./working/yixiao/Xception-weights-{epoch:02d}.h5',\n",
    "                                       save_best_only=True, save_weights_only=True, verbose=1)\n",
    "lr_decay = LearningRateScheduler(schedule=lambda epoch: 0.001 * np.exp(-epoch / 10.))\n",
    "\n",
    "\n",
    "# create train and valid datagens\n",
    "train_generator = data_generator_3channels.create_train_3channels(\n",
    "    train_dataset_info, batch_size, (299,299,3))\n",
    "validation_generator = data_generator_3channels.create_train_3channels(\n",
    "    valid_dataset_info, batch_size, (299,299,3))\n",
    "K.set_value(model.optimizer.lr, 0.0002)\n",
    "# train model\n",
    "history = model.fit_generator(\n",
    "    train_generator,\n",
    "#     steps_per_epoch=len(train_df)//batch_size,\n",
    "    steps_per_epoch=100,\n",
    "\n",
    "    validation_data=validation_generator,\n",
    "#     validation_steps=len(valid_df)//batch_size//10,\n",
    "    validation_steps=15,\n",
    "    epochs=epochs, \n",
    "    verbose=1,\n",
    "    callbacks=[checkpoint,log,lr_decay])"
   ]
  },
  {
   "cell_type": "markdown",
   "metadata": {
    "_uuid": "43471eb25b760c5f3934bf48a3a953240cc21336"
   },
   "source": [
    "### Visualize history\n",
    "There are a few epochs only, but in full variant it will be useful:"
   ]
  },
  {
   "cell_type": "code",
   "execution_count": 51,
   "metadata": {
    "_uuid": "884be9cb5e6c81d0ba382bc436810831b37e3e3f"
   },
   "outputs": [
    {
     "data": {
      "image/png": "[encoded data removed]",
      "text/plain": [
       "<Figure size 1080x360 with 2 Axes>"
      ]
     },
     "metadata": {},
     "output_type": "display_data"
    }
   ],
   "source": [
    "from Evaluation import evaluation, evaluation_f1\n",
    "evaluation(history)"
   ]
  },
  {
   "cell_type": "code",
   "execution_count": 52,
   "metadata": {},
   "outputs": [
    {
     "data": {
      "text/plain": [
       "<matplotlib.legend.Legend at 0x7f3c71ac4780>"
      ]
     },
     "execution_count": 52,
     "metadata": {},
     "output_type": "execute_result"
    },
    {
     "data": {
      "image/png": "[encoded data removed]",
      "text/plain": [
       "<Figure size 1080x360 with 1 Axes>"
      ]
     },
     "metadata": {},
     "output_type": "display_data"
    }
   ],
   "source": [
    "evaluation_f1(history)\n"
   ]
  },
  {
   "cell_type": "markdown",
   "metadata": {
    "_uuid": "2a52b306cd27fc030cfd3f7583009945de7828ac"
   },
   "source": [
    "### Create submit"
   ]
  },
  {
   "cell_type": "code",
   "execution_count": 53,
   "metadata": {
    "_uuid": "9d9ee4a8c2b1fc75b9f8d58855e33b115e92134d"
   },
   "outputs": [],
   "source": [
    "submit = pd.read_csv('./input/sample_submission.csv')"
   ]
  },
  {
   "cell_type": "code",
   "execution_count": 54,
   "metadata": {
    "_uuid": "782cdb0d614add0f41c11ea180bd45e5600d60fb"
   },
   "outputs": [
    {
     "name": "stderr",
     "output_type": "stream",
     "text": [
      "100%|██████████| 11702/11702 [26:54<00:00,  7.31it/s]"
     ]
    },
    {
     "name": "stdout",
     "output_type": "stream",
     "text": [
      "CPU times: user 26min 6s, sys: 2min 7s, total: 28min 13s\n",
      "Wall time: 26min 54s\n"
     ]
    },
    {
     "name": "stderr",
     "output_type": "stream",
     "text": [
      "\n"
     ]
    }
   ],
   "source": [
    "%%time\n",
    "predicted = []\n",
    "from tqdm import tqdm_notebook\n",
    "for name in tqdm(submit['Id']):\n",
    "    path = os.path.join('./input/test/', name)\n",
    "    image1, image2 = train_datagen.load_image(path, (299,299,3))\n",
    "    score_predict = model.predict([image1[np.newaxis], image2[np.newaxis]])[0]\n",
    "    label_predict = np.arange(28)[score_predict>=0.5]\n",
    "    str_predict_label = ' '.join(str(l) for l in label_predict)\n",
    "    predicted.append(str_predict_label)"
   ]
  },
  {
   "cell_type": "code",
   "execution_count": 55,
   "metadata": {
    "_uuid": "07043ed35ad009ce6edc017e4aa88ac82571a750"
   },
   "outputs": [],
   "source": [
    "submit['Predicted'] = predicted\n",
    "submit.to_csv('submission.csv', index=False)"
   ]
  },
  {
   "cell_type": "markdown",
   "metadata": {
    "_uuid": "7351ee784f893c3cf9480a0117ea34364a32dbc8"
   },
   "source": [
    "### Analysis of submission\n",
    "Let's look at our results, Which proteins occur most often in our submission?"
   ]
  },
  {
   "cell_type": "code",
   "execution_count": 56,
   "metadata": {
    "_kg_hide-input": true,
    "_kg_hide-output": false,
    "_uuid": "ebfadb6b6421806ad085232584f0c872bc19c6da"
   },
   "outputs": [],
   "source": [
    "name_label_dict = {\n",
    "    0:  \"Nucleoplasm\",  \n",
    "    1:  \"Nuclear membrane\",   \n",
    "    2:  \"Nucleoli\",   \n",
    "    3:  \"Nucleoli fibrillar center\",   \n",
    "    4:  \"Nuclear speckles\",\n",
    "    5:  \"Nuclear bodies\",   \n",
    "    6:  \"Endoplasmic reticulum\",   \n",
    "    7:  \"Golgi apparatus\",   \n",
    "    8:  \"Peroxisomes\",   \n",
    "    9:  \"Endosomes\",   \n",
    "    10:  \"Lysosomes\",   \n",
    "    11:  \"Intermediate filaments\",   \n",
    "    12:  \"Actin filaments\",   \n",
    "    13:  \"Focal adhesion sites\",   \n",
    "    14:  \"Microtubules\",   \n",
    "    15:  \"Microtubule ends\",   \n",
    "    16:  \"Cytokinetic bridge\",   \n",
    "    17:  \"Mitotic spindle\",   \n",
    "    18:  \"Microtubule organizing center\",   \n",
    "    19:  \"Centrosome\",   \n",
    "    20:  \"Lipid droplets\",   \n",
    "    21:  \"Plasma membrane\",   \n",
    "    22:  \"Cell junctions\",   \n",
    "    23:  \"Mitochondria\",   \n",
    "    24:  \"Aggresome\",   \n",
    "    25:  \"Cytosol\",   \n",
    "    26:  \"Cytoplasmic bodies\",   \n",
    "    27:  \"Rods & rings\"\n",
    "}"
   ]
  },
  {
   "cell_type": "code",
   "execution_count": 57,
   "metadata": {},
   "outputs": [],
   "source": [
    "def mk_int(s):\n",
    "    s = s.strip()\n",
    "    return int(s) if s else 0"
   ]
  },
  {
   "cell_type": "code",
   "execution_count": 58,
   "metadata": {
    "_uuid": "68862b3d843757aa0c0bd0533be974da6eef6894"
   },
   "outputs": [
    {
     "name": "stdout",
     "output_type": "stream",
     "text": [
      "Nucleoplasm count: 6649\n",
      "Nuclear membrane count: 276\n",
      "Nucleoli count: 831\n",
      "Nucleoli fibrillar center count: 281\n",
      "Nuclear speckles count: 335\n",
      "Nuclear bodies count: 462\n",
      "Endoplasmic reticulum count: 225\n",
      "Golgi apparatus count: 610\n",
      "Peroxisomes count: 7\n",
      "Endosomes count: 2\n",
      "Lysosomes count: 1\n",
      "Intermediate filaments count: 256\n",
      "Actin filaments count: 144\n",
      "Focal adhesion sites count: 102\n",
      "Microtubules count: 314\n",
      "Microtubule ends count: 0\n",
      "Cytokinetic bridge count: 96\n",
      "Mitotic spindle count: 76\n",
      "Microtubule organizing center count: 159\n",
      "Centrosome count: 216\n",
      "Lipid droplets count: 17\n",
      "Plasma membrane count: 1352\n",
      "Cell junctions count: 145\n",
      "Mitochondria count: 764\n",
      "Aggresome count: 85\n",
      "Cytosol count: 2796\n",
      "Cytoplasmic bodies count: 120\n",
      "Rods & rings count: 0\n"
     ]
    }
   ],
   "source": [
    "submit['target_list'] = submit['Predicted'].map(lambda x: [mk_int(a) for a in str(x).split(' ')])\n",
    "submit['target_vec'] = submit['target_list'].map(lambda ck: [i in ck for i in range(max_idx+1)])\n",
    "all_labels = list(chain.from_iterable(submit['target_list'].values))\n",
    "c_val = Counter(all_labels)\n",
    "n_keys = c_val.keys()\n",
    "max_idx = max(n_keys)\n",
    "for k,v in name_label_dict.items():\n",
    "    print(v, 'count:', c_val[k] if k in c_val else 0)"
   ]
  },
  {
   "cell_type": "markdown",
   "metadata": {
    "_uuid": "ce5940aab723ab2f352623a5be34585fa85efc89"
   },
   "source": [
    "### Classes distribution:"
   ]
  },
  {
   "cell_type": "code",
   "execution_count": 59,
   "metadata": {
    "_uuid": "3f666de2811a4d3ef701f5386ef2dea651bffa0b"
   },
   "outputs": [
    {
     "data": {
      "image/png": "[encoded data removed]",
      "text/plain": [
       "<Figure size 432x288 with 1 Axes>"
      ]
     },
     "metadata": {},
     "output_type": "display_data"
    }
   ],
   "source": [
    "train_sum_vec = np.sum(np.stack(submit['target_vec'].values, 0), 0)\n",
    "_ = plt.bar(n_keys, [train_sum_vec[k] for k in n_keys])\n"
   ]
  },
  {
   "cell_type": "code",
   "execution_count": null,
   "metadata": {
    "_uuid": "d5725780b59f002f55a7f82e0b78ab810cd052ef"
   },
   "outputs": [],
   "source": []
  }
 ],
 "metadata": {
  "kernelspec": {
   "display_name": "Python 3",
   "language": "python",
   "name": "python3"
  },
  "language_info": {
   "codemirror_mode": {
    "name": "ipython",
    "version": 3
   },
   "file_extension": ".py",
   "mimetype": "text/x-python",
   "name": "python",
   "nbconvert_exporter": "python",
   "pygments_lexer": "ipython3",
   "version": "3.6.5"
  }
 },
 "nbformat": 4,
 "nbformat_minor": 1
}
